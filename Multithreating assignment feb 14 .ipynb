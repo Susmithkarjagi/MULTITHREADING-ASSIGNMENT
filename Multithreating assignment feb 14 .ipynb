{
 "cells": [
  {
   "cell_type": "markdown",
   "id": "8cc488eb-3ee7-48a6-8f27-cf5a0768bcc6",
   "metadata": {},
   "source": [
    "## MULTITHREADING ASSIGNMENT "
   ]
  },
  {
   "cell_type": "markdown",
   "id": "4b6bb6e9-8eb0-4509-852b-7f0e7ba61f76",
   "metadata": {},
   "source": [
    "Q1. What is multithreading in python? hy is it used? Name the module used to handle threads in python"
   ]
  },
  {
   "cell_type": "code",
   "execution_count": 1,
   "id": "44459fbd-5f08-4629-981a-7792603ab4b1",
   "metadata": {},
   "outputs": [],
   "source": [
    "#ANSWER 1"
   ]
  },
  {
   "cell_type": "markdown",
   "id": "3825f11f-80b9-4c4d-8560-11d45a084f57",
   "metadata": {},
   "source": [
    "Multithreading in Python refers to the ability of a program to execute multiple threads concurrently within the same process. In other words, it allows different parts of a program to run concurrently and independently of each other, thus improving the performance of the program.\n",
    "\n",
    "Multithreading is used in Python when there is a need to perform multiple tasks simultaneously or when a task involves waiting for a certain amount of time (such as waiting for a response from a web server). By using threads, the program can continue to execute other tasks while waiting for the response, thus improving its overall efficiency.\n",
    "\n",
    "The threading module is used to handle threads in Python. This module provides a simple and easy-to-use interface for creating and managing threads in Python. It allows the programmer to create new threads, start them, stop them, and synchronize their execution. The threading module also provides mechanisms for thread communication and synchronization, such as locks, semaphores, and events."
   ]
  },
  {
   "cell_type": "markdown",
   "id": "280d0a80-d126-473a-aa28-5e03b630137e",
   "metadata": {},
   "source": [
    "Q2. why threading module used? Write the use of the following functions\n",
    "1.activecount() \n",
    "2.curentthread() \n",
    "3.enumerate()\n",
    "\n"
   ]
  },
  {
   "cell_type": "code",
   "execution_count": 2,
   "id": "9a0bba9e-6a49-4438-8e9b-3efd85aa8fd3",
   "metadata": {},
   "outputs": [],
   "source": [
    "#ANSWER 2"
   ]
  },
  {
   "cell_type": "markdown",
   "id": "e40170de-f6b0-4682-9699-c9464218b2d5",
   "metadata": {},
   "source": [
    "The threading module in Python is used for creating, managing and synchronizing threads. It provides a simple and easy-to-use interface for creating, starting, and managing threads, as well as for synchronizing their execution and communication. Here are the uses of some of the important functions provided by the threading module:\n",
    "\n",
    "1. active_count(): This function is used to get the number of threads that are currently active and running in the program. It returns an integer that represents the number of threads currently active in the program.\n",
    "\n",
    "2. current_thread(): This function is used to get the current thread object that is executing the code. It returns the thread object that represents the currently executing thread.\n",
    "\n",
    "3. enumerate(): This function is used to get a list of all thread objects that are currently running in the program. It returns a list of thread objects that represent all the threads that are currently active in the program"
   ]
  },
  {
   "cell_type": "markdown",
   "id": "e17108a4-afa4-4798-b8bf-79597fadf5fb",
   "metadata": {},
   "source": [
    "Q3. Explain the following functions 1. run() 2.start() 3.join() 4.isAlive()"
   ]
  },
  {
   "cell_type": "code",
   "execution_count": 6,
   "id": "13705aaf-31c8-4b19-b3ac-cc4d93962a8a",
   "metadata": {},
   "outputs": [],
   "source": [
    "#ANSWER 3"
   ]
  },
  {
   "cell_type": "markdown",
   "id": "0a066f8a-15c6-4058-ada2-5158bf97f297",
   "metadata": {},
   "source": [
    "1. run(): The run() method is called when a thread is started using the start() method. It is the entry point for the thread's execution, and it should be overridden in a subclass to define the thread's behavior. By default, the run() method does nothing, so it must be overridden to perform any useful work in the thread.\n",
    "\n",
    "2. start(): The start() method is used to start the execution of a thread. It creates a new thread of execution and calls the thread's run() method. Once a thread has been started using the start() method, it runs independently of the main thread. The start() method should only be called once for each thread object, otherwise, an exception will be raised.\n",
    "\n",
    "3. join(): The join() method is used to wait for a thread to complete its execution. When a thread is started using the start() method, it runs independently of the main thread. The join() method can be used to wait for the thread to finish its execution before continuing with the main thread. The join() method blocks the calling thread until the thread being joined completes its execution. If the optional timeout parameter is specified, the join() method will block for at most that many seconds.\n",
    "\n",
    "4. is_alive(): The is_alive() method is used to check whether a thread is currently running. It returns True if the thread is running, and False otherwise. This method can be used to check the status of a thread before calling the join() method, to avoid blocking the calling thread indefinitely"
   ]
  },
  {
   "cell_type": "code",
   "execution_count": 7,
   "id": "9800e173-d938-4910-aeda-2a396e10ccae",
   "metadata": {},
   "outputs": [
    {
     "name": "stdout",
     "output_type": "stream",
     "text": [
      "Thread 1 started\n",
      "Thread 2 started\n",
      "Thread 1 finished\n",
      "Thread 2 finished\n",
      "Thread 1 is running: False\n",
      "Thread 2 is running: False\n"
     ]
    }
   ],
   "source": [
    "import threading\n",
    "import time\n",
    "\n",
    "class MyThread(threading.Thread):\n",
    "    \n",
    "    def __init__(self, name):\n",
    "        super().__init__(name=name)\n",
    "        self.name = name\n",
    "    \n",
    "    def run(self):\n",
    "        print(f\"{self.name} started\")\n",
    "        time.sleep(5)\n",
    "        print(f\"{self.name} finished\")\n",
    "        \n",
    "# Create two threads\n",
    "t1 = MyThread(\"Thread 1\")\n",
    "t2 = MyThread(\"Thread 2\")\n",
    "\n",
    "# Start the threads\n",
    "t1.start()\n",
    "t2.start()\n",
    "\n",
    "# Wait for the threads to complete\n",
    "t1.join()\n",
    "t2.join()\n",
    "\n",
    "# Check if the threads are still running\n",
    "print(f\"{t1.name} is running: {t1.is_alive()}\")\n",
    "print(f\"{t2.name} is running: {t2.is_alive()}\")\n"
   ]
  },
  {
   "cell_type": "markdown",
   "id": "d92cfee6-0986-4f2a-8ce9-7b8813049005",
   "metadata": {},
   "source": [
    "In the example above, we create two threads using the MyThread class, which is a subclass of the Thread class. We start the threads using the start() method and then wait for them to complete using the join() method. We then use the is_alive() method to check whether the threads are still running. Finally, we print the status of the threads to the console"
   ]
  },
  {
   "cell_type": "markdown",
   "id": "ea11e59c-3114-432d-997c-b3e7d8d20a24",
   "metadata": {},
   "source": [
    "Q4. Write a python program to create two threads. Thread one must print the list of squares and thread\n",
    "two must print the list of cubes"
   ]
  },
  {
   "cell_type": "code",
   "execution_count": 8,
   "id": "c0e2663b-0bdb-4f53-b5bb-1d41ed527d04",
   "metadata": {},
   "outputs": [],
   "source": [
    "#ANSWER 4"
   ]
  },
  {
   "cell_type": "code",
   "execution_count": 12,
   "id": "8c0dcd25-cdda-4f51-a3b0-471e6a58147f",
   "metadata": {},
   "outputs": [
    {
     "name": "stdout",
     "output_type": "stream",
     "text": [
      "1 squared is 1\n",
      "2 squared is 4\n",
      "3 squared is 9\n",
      "4 squared is 16\n",
      "5 squared is 25\n",
      "6 squared is 36\n",
      "7 squared is 49\n",
      "8 squared is 64\n",
      "9 squared is 81\n",
      "10 squared is 100\n",
      "1 cubed is 1\n",
      "2 cubed is 8\n",
      "3 cubed is 27\n",
      "4 cubed is 64\n",
      "5 cubed is 125\n",
      "6 cubed is 216\n",
      "7 cubed is 343\n",
      "8 cubed is 512\n",
      "9 cubed is 729\n",
      "10 cubed is 1000\n"
     ]
    }
   ],
   "source": [
    "import threading\n",
    "\n",
    "def print_squares():\n",
    "    for i in range(1, 11):\n",
    "        print(f\"{i} squared is {i**2}\")\n",
    "\n",
    "def print_cubes():\n",
    "    for i in range(1, 11):\n",
    "        print(f\"{i} cubed is {i**3}\")\n",
    "\n",
    "# Create two threads\n",
    "t1 = threading.Thread(target=print_squares)\n",
    "t2 = threading.Thread(target=print_cubes)\n",
    "\n",
    "# Start the threads\n",
    "t1.start()\n",
    "t2.start()\n",
    "\n",
    "# Wait for the threads to complete\n",
    "t1.join()\n",
    "t2.join()\n"
   ]
  },
  {
   "cell_type": "markdown",
   "id": "3334c8e6-f7ce-4ec2-a4b0-4538427fb4bc",
   "metadata": {},
   "source": [
    "Q5. State advantages and disadvantages of multithreading"
   ]
  },
  {
   "cell_type": "code",
   "execution_count": 10,
   "id": "c72bd73b-fd09-4177-a5b6-6887883c6712",
   "metadata": {},
   "outputs": [],
   "source": [
    "#ANSWER 5"
   ]
  },
  {
   "cell_type": "markdown",
   "id": "a00379a3-40aa-405c-a22b-af1316df8972",
   "metadata": {},
   "source": [
    "Multithreading has several advantages and disadvantages:\n",
    "\n",
    "Advantages:\n",
    "\n",
    "1. Improved performance: Multithreading can improve the performance of an application by allowing it to execute multiple tasks concurrently. This can lead to faster execution times and improved responsiveness.\n",
    "\n",
    "2. Simplified program structure: Multithreading can simplify the structure of a program by allowing it to be split into smaller, more manageable tasks. This can make the program easier to develop, test, and maintain.\n",
    "\n",
    "3. Resource sharing: Multithreading allows multiple threads to share resources such as memory, files, and network connections, reducing the overall resource usage of the application.\n",
    "\n",
    "4. Asynchronous processing: Multithreading can be used to perform asynchronous processing, allowing a program to continue executing while a long-running task is performed in the background.\n",
    "\n",
    "Disadvantages:\n",
    "\n",
    "1. Increased complexity: Multithreading can add complexity to a program, making it more difficult to develop, test, and maintain. Multithreaded programs must be carefully designed and implemented to avoid issues such as race conditions and deadlocks.\n",
    "\n",
    "2. Synchronization overhead: Multithreading requires synchronization mechanisms such as locks and semaphores to coordinate access to shared resources. This synchronization overhead can reduce performance and increase the likelihood of errors.\n",
    "\n",
    "3. Resource contention: Multithreading can lead to resource contention, where multiple threads compete for the same resources, such as memory or network connections. This can cause delays and reduce performance.\n",
    "\n",
    "4. Debugging difficulties: Multithreaded programs can be difficult to debug due to their asynchronous nature. Bugs may be difficult to reproduce and diagnose, and race conditions can be particularly tricky to identify and fix.\n",
    "\n",
    "Overall, multithreading can be a powerful tool for improving the performance and responsiveness of an application, but it must be used carefully to avoid the pitfalls and drawbacks associated with concurrent programming."
   ]
  },
  {
   "cell_type": "markdown",
   "id": "e93ac34b-7f46-4b79-a2c0-46c840c58002",
   "metadata": {},
   "source": [
    "Q6. Explain deadlocks and race conditions."
   ]
  },
  {
   "cell_type": "code",
   "execution_count": 11,
   "id": "d6e07180-e2f4-4fc7-b60a-88a541c3209d",
   "metadata": {},
   "outputs": [],
   "source": [
    "#ANSWER 6"
   ]
  },
  {
   "cell_type": "markdown",
   "id": "97d5f77f-04a5-4d48-95c0-bbb2cc857d64",
   "metadata": {},
   "source": [
    "Deadlocks and race conditions are two common issues that can occur in multithreaded programs.\n",
    "\n",
    "Deadlock: A deadlock occurs when two or more threads are blocked, waiting for each other to release resources that they need in order to proceed. In other words, each thread is waiting for the other to finish using a resource that it needs, resulting in a standstill. Deadlocks can be difficult to diagnose and fix, and can cause an application to hang or crash.\n",
    "\n",
    "For example, consider a program with two threads, T1 and T2, that both need to acquire two resources, R1 and R2, in order to complete their tasks. If T1 acquires R1 and T2 acquires R2, but then both threads attempt to acquire the other resource before releasing their own, a deadlock can occur.\n",
    "\n",
    "Race condition: A race condition occurs when the behavior of a program depends on the order in which two or more threads execute. In other words, the outcome of the program is unpredictable, since it depends on which thread gets to a particular resource first. Race conditions can be difficult to reproduce and diagnose, and can cause subtle bugs and errors in a program.\n",
    "\n",
    "For example, consider a program with two threads, T1 and T2, that both need to access a shared variable, X, and increment its value. If both threads read the value of X, increment it, and then write it back to memory, a race condition can occur if both threads read the same value of X before either has written back the updated value. This can result in the final value of X being incorrect, since one of the increments may be overwritten by the other.\n",
    "\n",
    "In general, deadlocks and race conditions can be avoided by carefully designing and implementing multithreaded programs, and by using appropriate synchronization mechanisms such as locks, semaphores, and atomic operations to coordinate access to shared resources.\n",
    "\n",
    "\n",
    "\n"
   ]
  },
  {
   "cell_type": "code",
   "execution_count": null,
   "id": "814b279d-7e3a-4481-9c8b-6bdf2688c6bb",
   "metadata": {},
   "outputs": [],
   "source": []
  }
 ],
 "metadata": {
  "kernelspec": {
   "display_name": "Python 3 (ipykernel)",
   "language": "python",
   "name": "python3"
  },
  "language_info": {
   "codemirror_mode": {
    "name": "ipython",
    "version": 3
   },
   "file_extension": ".py",
   "mimetype": "text/x-python",
   "name": "python",
   "nbconvert_exporter": "python",
   "pygments_lexer": "ipython3",
   "version": "3.10.8"
  }
 },
 "nbformat": 4,
 "nbformat_minor": 5
}
